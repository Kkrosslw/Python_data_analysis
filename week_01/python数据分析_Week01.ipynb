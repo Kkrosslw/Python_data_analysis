{
 "cells": [
  {
   "cell_type": "markdown",
   "metadata": {},
   "source": [
    "### 1. python解释器"
   ]
  },
  {
   "cell_type": "markdown",
   "metadata": {},
   "source": [
    "### 2. Ipython"
   ]
  },
  {
   "cell_type": "markdown",
   "metadata": {},
   "source": [
    "### 3. Tab补全\n",
    "* 变量不全\n",
    "* 函数/方法补全\n",
    "* 路径补全\n",
    "* 关键字补全"
   ]
  },
  {
   "cell_type": "markdown",
   "metadata": {},
   "source": [
    "#### 3.1 变量补全"
   ]
  },
  {
   "cell_type": "code",
   "execution_count": 2,
   "metadata": {},
   "outputs": [],
   "source": [
    "name_age = [\"liwen_19\",\"wuyifan_30\",\"zhangyao_23\"]"
   ]
  },
  {
   "cell_type": "code",
   "execution_count": 5,
   "metadata": {},
   "outputs": [],
   "source": [
    "dict_person = {}\n",
    "# 方法1 \n",
    "for n in name_age:\n",
    "    dict_person[n.split(\"_\")[0]] = n.split(\"_\")[1]"
   ]
  },
  {
   "cell_type": "code",
   "execution_count": 6,
   "metadata": {},
   "outputs": [
    {
     "data": {
      "text/plain": [
       "{'liwen': '19', 'wuyifan': '30', 'zhangyao': '23'}"
      ]
     },
     "execution_count": 6,
     "metadata": {},
     "output_type": "execute_result"
    }
   ],
   "source": [
    "dict_person"
   ]
  },
  {
   "cell_type": "code",
   "execution_count": 8,
   "metadata": {},
   "outputs": [
    {
     "data": {
      "text/plain": [
       "{'liwen': '19', 'wuyifan': '30', 'zhangyao': '23'}"
      ]
     },
     "execution_count": 8,
     "metadata": {},
     "output_type": "execute_result"
    }
   ],
   "source": [
    "# 方法2：字典的推导式\n",
    "dict_person = {n.split(\"_\")[0]:n.split(\"_\")[1] for n in name_age}\n",
    "dict_person"
   ]
  },
  {
   "cell_type": "markdown",
   "metadata": {},
   "source": [
    "#### 3.2 函数/方法补全"
   ]
  },
  {
   "cell_type": "code",
   "execution_count": 10,
   "metadata": {},
   "outputs": [],
   "source": [
    "import datetime"
   ]
  },
  {
   "cell_type": "code",
   "execution_count": 11,
   "metadata": {},
   "outputs": [
    {
     "name": "stdout",
     "output_type": "stream",
     "text": [
      "2020-03-16\n"
     ]
    }
   ],
   "source": [
    "print(datetime.date(2020,3,16))"
   ]
  },
  {
   "cell_type": "code",
   "execution_count": 16,
   "metadata": {},
   "outputs": [
    {
     "name": "stdout",
     "output_type": "stream",
     "text": [
      "5852 days, 0:00:00\n"
     ]
    }
   ],
   "source": [
    "date_SARS = datetime.date(2003,12,5)\n",
    "date_nCov = datetime.date(2019,12,13)\n",
    "print(date_nCov.__sub__(date_SARS))  # 两个日期相差多少天\n",
    "# 注意 __sub__ 有两个下划线"
   ]
  },
  {
   "cell_type": "markdown",
   "metadata": {},
   "source": [
    "#### 3.3 路径补全"
   ]
  },
  {
   "cell_type": "code",
   "execution_count": 17,
   "metadata": {},
   "outputs": [],
   "source": [
    "path = \"/user/liwen/Desktop/\""
   ]
  },
  {
   "cell_type": "markdown",
   "metadata": {},
   "source": [
    "#### 3.4 关键字补全"
   ]
  },
  {
   "cell_type": "code",
   "execution_count": 19,
   "metadata": {},
   "outputs": [
    {
     "name": "stdout",
     "output_type": "stream",
     "text": [
      "liwen\n"
     ]
    }
   ],
   "source": [
    "def func1(name,age=None):\n",
    "    print(name)\n",
    "func1(\"liwen\")"
   ]
  },
  {
   "cell_type": "markdown",
   "metadata": {},
   "source": [
    "### 4. 内省"
   ]
  },
  {
   "cell_type": "markdown",
   "metadata": {},
   "source": [
    "* 在一个变量或者函数前后使用“？”，两个“？”可显示源码"
   ]
  },
  {
   "cell_type": "code",
   "execution_count": 20,
   "metadata": {},
   "outputs": [],
   "source": [
    "func1?"
   ]
  },
  {
   "cell_type": "code",
   "execution_count": 21,
   "metadata": {},
   "outputs": [],
   "source": [
    "func1??"
   ]
  },
  {
   "cell_type": "markdown",
   "metadata": {},
   "source": [
    "### 5. %run"
   ]
  },
  {
   "cell_type": "markdown",
   "metadata": {},
   "source": [
    "* %run 要运行的文件"
   ]
  },
  {
   "cell_type": "markdown",
   "metadata": {},
   "source": [
    "### 6. 魔术命令"
   ]
  },
  {
   "cell_type": "markdown",
   "metadata": {},
   "source": [
    "* https://www.cnblogs.com/bind/p/11958317.html"
   ]
  },
  {
   "cell_type": "code",
   "execution_count": 16,
   "metadata": {},
   "outputs": [
    {
     "name": "stdout",
     "output_type": "stream",
     "text": [
      "Wall time: 110 ms\n"
     ]
    },
    {
     "data": {
      "text/plain": [
       "array([[ 11.39329035,   5.1900706 ,  12.21617208, ...,   3.82700767,\n",
       "         -6.80312973,   2.26773383],\n",
       "       [-10.95617418,   8.6008006 ,   1.42108139, ...,  -5.15930916,\n",
       "          8.64827827,  -0.0384659 ],\n",
       "       [  2.29196166,  19.93808292,  -9.55170968, ...,  13.23126603,\n",
       "         -9.26387749,  -4.84884222],\n",
       "       ...,\n",
       "       [  7.57996002,  19.52521198,   5.19212432, ...,  -5.77532949,\n",
       "          2.06798797, -11.32071789],\n",
       "       [ -3.39229107,  19.60836016,  21.30271432, ..., -14.67429978,\n",
       "         13.08780285,   7.07105944],\n",
       "       [  1.42474067,  -9.47698914,  -2.30796694, ..., -10.71662819,\n",
       "         -7.18493746,  14.53372113]])"
      ]
     },
     "execution_count": 16,
     "metadata": {},
     "output_type": "execute_result"
    }
   ],
   "source": [
    "# 举例，查询CPU运行某个程序需要多长时间\n",
    "import numpy as np\n",
    "# 100随机矩阵 点积运算 \n",
    "a = np.random.randn(100,100)\n",
    "%time np.dot(a,a)"
   ]
  },
  {
   "cell_type": "code",
   "execution_count": 17,
   "metadata": {},
   "outputs": [],
   "source": [
    "import requests\n",
    "from lxml import etree\n",
    "import pandas as pd"
   ]
  },
  {
   "cell_type": "code",
   "execution_count": 18,
   "metadata": {},
   "outputs": [
    {
     "name": "stdout",
     "output_type": "stream",
     "text": [
      "\u001b[1;31m魔术命令-Line magics\u001b[0m\n"
     ]
    },
    {
     "data": {
      "text/html": [
       "<div>\n",
       "<style scoped>\n",
       "    .dataframe tbody tr th:only-of-type {\n",
       "        vertical-align: middle;\n",
       "    }\n",
       "\n",
       "    .dataframe tbody tr th {\n",
       "        vertical-align: top;\n",
       "    }\n",
       "\n",
       "    .dataframe thead th {\n",
       "        text-align: right;\n",
       "    }\n",
       "</style>\n",
       "<table border=\"1\" class=\"dataframe\">\n",
       "  <thead>\n",
       "    <tr style=\"text-align: right;\">\n",
       "      <th></th>\n",
       "      <th>命令</th>\n",
       "      <th>详情</th>\n",
       "    </tr>\n",
       "  </thead>\n",
       "  <tbody>\n",
       "    <tr>\n",
       "      <th>0</th>\n",
       "      <td>%alias</td>\n",
       "      <td>定义别名</td>\n",
       "    </tr>\n",
       "    <tr>\n",
       "      <th>1</th>\n",
       "      <td>%alias_magic</td>\n",
       "      <td>为现有的魔术命令创建别名</td>\n",
       "    </tr>\n",
       "    <tr>\n",
       "      <th>2</th>\n",
       "      <td>%autocall</td>\n",
       "      <td>%autocall</td>\n",
       "    </tr>\n",
       "    <tr>\n",
       "      <th>3</th>\n",
       "      <td>%automagic</td>\n",
       "      <td>设置输入魔术命令时是否键入%前缀，on(1)/off(0)</td>\n",
       "    </tr>\n",
       "    <tr>\n",
       "      <th>4</th>\n",
       "      <td>%bookmark</td>\n",
       "      <td>管理IPython的书签系统</td>\n",
       "    </tr>\n",
       "    <tr>\n",
       "      <th>5</th>\n",
       "      <td>%cd</td>\n",
       "      <td>更改当前工作目录</td>\n",
       "    </tr>\n",
       "    <tr>\n",
       "      <th>6</th>\n",
       "      <td>%colors</td>\n",
       "      <td>%colors</td>\n",
       "    </tr>\n",
       "    <tr>\n",
       "      <th>7</th>\n",
       "      <td>%config</td>\n",
       "      <td>%config</td>\n",
       "    </tr>\n",
       "    <tr>\n",
       "      <th>8</th>\n",
       "      <td>%debug</td>\n",
       "      <td>%debug</td>\n",
       "    </tr>\n",
       "    <tr>\n",
       "      <th>9</th>\n",
       "      <td>%dhist</td>\n",
       "      <td>打印历史访问目录</td>\n",
       "    </tr>\n",
       "    <tr>\n",
       "      <th>10</th>\n",
       "      <td>%dirs</td>\n",
       "      <td>返回当前目录堆栈</td>\n",
       "    </tr>\n",
       "    <tr>\n",
       "      <th>11</th>\n",
       "      <td>%doctest_mode</td>\n",
       "      <td>%doctest_mode</td>\n",
       "    </tr>\n",
       "    <tr>\n",
       "      <th>12</th>\n",
       "      <td>%edit</td>\n",
       "      <td>%edit</td>\n",
       "    </tr>\n",
       "    <tr>\n",
       "      <th>13</th>\n",
       "      <td>%env</td>\n",
       "      <td>设置环境变量(无需重启)</td>\n",
       "    </tr>\n",
       "    <tr>\n",
       "      <th>14</th>\n",
       "      <td>%gui</td>\n",
       "      <td>%gui</td>\n",
       "    </tr>\n",
       "    <tr>\n",
       "      <th>15</th>\n",
       "      <td>%history</td>\n",
       "      <td>%history</td>\n",
       "    </tr>\n",
       "    <tr>\n",
       "      <th>16</th>\n",
       "      <td>%killbgscripts</td>\n",
       "      <td>%killbgscripts</td>\n",
       "    </tr>\n",
       "    <tr>\n",
       "      <th>17</th>\n",
       "      <td>%load</td>\n",
       "      <td>导入python文件</td>\n",
       "    </tr>\n",
       "    <tr>\n",
       "      <th>18</th>\n",
       "      <td>%load_ext</td>\n",
       "      <td>%load_ext</td>\n",
       "    </tr>\n",
       "    <tr>\n",
       "      <th>19</th>\n",
       "      <td>%loadpy</td>\n",
       "      <td>%load别名</td>\n",
       "    </tr>\n",
       "    <tr>\n",
       "      <th>20</th>\n",
       "      <td>%logoff</td>\n",
       "      <td>临时停止logging</td>\n",
       "    </tr>\n",
       "    <tr>\n",
       "      <th>21</th>\n",
       "      <td>%logon</td>\n",
       "      <td>重新开始logging</td>\n",
       "    </tr>\n",
       "    <tr>\n",
       "      <th>22</th>\n",
       "      <td>%logstart</td>\n",
       "      <td>%logstart</td>\n",
       "    </tr>\n",
       "    <tr>\n",
       "      <th>23</th>\n",
       "      <td>%logstate</td>\n",
       "      <td>%logstate</td>\n",
       "    </tr>\n",
       "    <tr>\n",
       "      <th>24</th>\n",
       "      <td>%lsmagic</td>\n",
       "      <td>列出当前可用的魔术命令。</td>\n",
       "    </tr>\n",
       "    <tr>\n",
       "      <th>25</th>\n",
       "      <td>%macro</td>\n",
       "      <td>定义用来重复执行的宏</td>\n",
       "    </tr>\n",
       "    <tr>\n",
       "      <th>26</th>\n",
       "      <td>%magic</td>\n",
       "      <td>显示魔术命令的帮助</td>\n",
       "    </tr>\n",
       "    <tr>\n",
       "      <th>27</th>\n",
       "      <td>%matplotlib</td>\n",
       "      <td>设置matplotlib的工作方式</td>\n",
       "    </tr>\n",
       "    <tr>\n",
       "      <th>28</th>\n",
       "      <td>%notebook</td>\n",
       "      <td>%notebook</td>\n",
       "    </tr>\n",
       "    <tr>\n",
       "      <th>29</th>\n",
       "      <td>%page</td>\n",
       "      <td>%page</td>\n",
       "    </tr>\n",
       "    <tr>\n",
       "      <th>30</th>\n",
       "      <td>%pastebin</td>\n",
       "      <td>%pastebin</td>\n",
       "    </tr>\n",
       "    <tr>\n",
       "      <th>31</th>\n",
       "      <td>%pdb</td>\n",
       "      <td>控制pdb交互式调试器的自动调用</td>\n",
       "    </tr>\n",
       "  </tbody>\n",
       "</table>\n",
       "</div>"
      ],
      "text/plain": [
       "                命令                             详情\n",
       "0           %alias                           定义别名\n",
       "1     %alias_magic                   为现有的魔术命令创建别名\n",
       "2        %autocall                      %autocall\n",
       "3       %automagic  设置输入魔术命令时是否键入%前缀，on(1)/off(0)\n",
       "4        %bookmark                 管理IPython的书签系统\n",
       "5              %cd                       更改当前工作目录\n",
       "6          %colors                        %colors\n",
       "7          %config                        %config\n",
       "8           %debug                         %debug\n",
       "9           %dhist                       打印历史访问目录\n",
       "10           %dirs                       返回当前目录堆栈\n",
       "11   %doctest_mode                  %doctest_mode\n",
       "12           %edit                          %edit\n",
       "13            %env                   设置环境变量(无需重启)\n",
       "14            %gui                           %gui\n",
       "15        %history                       %history\n",
       "16  %killbgscripts                 %killbgscripts\n",
       "17           %load                     导入python文件\n",
       "18       %load_ext                      %load_ext\n",
       "19         %loadpy                        %load别名\n",
       "20         %logoff                    临时停止logging\n",
       "21          %logon                    重新开始logging\n",
       "22       %logstart                      %logstart\n",
       "23       %logstate                      %logstate\n",
       "24        %lsmagic                   列出当前可用的魔术命令。\n",
       "25          %macro                     定义用来重复执行的宏\n",
       "26          %magic                      显示魔术命令的帮助\n",
       "27     %matplotlib              设置matplotlib的工作方式\n",
       "28       %notebook                      %notebook\n",
       "29           %page                          %page\n",
       "30       %pastebin                      %pastebin\n",
       "31            %pdb               控制pdb交互式调试器的自动调用"
      ]
     },
     "execution_count": 18,
     "metadata": {},
     "output_type": "execute_result"
    }
   ],
   "source": [
    "# requests爬取网页\n",
    "url = (\"https://www.cnblogs.com/bind/p/11958317.html\")\n",
    "response = requests.get(url)\n",
    "\n",
    "# etree html语法纠正,对文本进行自动修正\n",
    "response_elements = etree.HTML(response.text)\n",
    "\n",
    "# //*[@id=\"cnblogs_post_body\"]/table[1]\n",
    "\n",
    "# xpath定位(与另一门选修课《web数据挖掘》相关)\n",
    "table_magic = response_elements.xpath(\"//*[@id=\\\"cnblogs_post_body\\\"]/table[1]\")\n",
    "table = etree.tostring(table_magic[0],encoding='utf-8').decode()\n",
    "# etee.tostring()输出修正后的结果，类型是bytes\n",
    "\n",
    "# pd表格输出csv\n",
    "df = pd.read_html(table,encoding='utf-8',header=0)[0]\n",
    "results = list(df.T.to_dict().values())\n",
    "df.to_csv(\"magic_table.csv\",index=False)   # df.to_csv(相对位置，保存在当前路径下\n",
    "\n",
    "# pd读取csv\n",
    "magic_data = pd.read_csv(\"magic_table.csv\")\n",
    "print(\"\\033[1;31m魔术命令-Line magics\\033[0m\")\n",
    "magic_data\n",
    "\n",
    "# python颜色： \\033[显示方式：前景色；背景色m+结尾部分： \\033[0m\n",
    "# 显示方式： 0（默认\\）、1（高亮）、22（非粗体）、4（下划线）、24（非下划线）、 5（闪烁）、25（非闪烁）、7（反显）、27（非反显）\n",
    "# #前景色:   30（黑色）、31（红色）、32（绿色）、 33（黄色）、34（蓝色）、35（洋 红）、36（青色）、37（白色）\n",
    "#背景色:   40（黑色）、41（红色）、42（绿色）、 43（黄色）、44（蓝色）、45（洋 红）、46（青色）、47（白色）\n"
   ]
  },
  {
   "cell_type": "code",
   "execution_count": 19,
   "metadata": {},
   "outputs": [
    {
     "name": "stdout",
     "output_type": "stream",
     "text": [
      "\u001b[1;32m魔术命令-打印相关\u001b[0m\n"
     ]
    },
    {
     "data": {
      "text/html": [
       "<div>\n",
       "<style scoped>\n",
       "    .dataframe tbody tr th:only-of-type {\n",
       "        vertical-align: middle;\n",
       "    }\n",
       "\n",
       "    .dataframe tbody tr th {\n",
       "        vertical-align: top;\n",
       "    }\n",
       "\n",
       "    .dataframe thead th {\n",
       "        text-align: right;\n",
       "    }\n",
       "</style>\n",
       "<table border=\"1\" class=\"dataframe\">\n",
       "  <thead>\n",
       "    <tr style=\"text-align: right;\">\n",
       "      <th></th>\n",
       "      <th>命令</th>\n",
       "      <th>详情</th>\n",
       "    </tr>\n",
       "  </thead>\n",
       "  <tbody>\n",
       "    <tr>\n",
       "      <th>0</th>\n",
       "      <td>%pdef</td>\n",
       "      <td>打印任何可调用对象信息</td>\n",
       "    </tr>\n",
       "    <tr>\n",
       "      <th>1</th>\n",
       "      <td>%pdoc</td>\n",
       "      <td>打印对象的docstring</td>\n",
       "    </tr>\n",
       "    <tr>\n",
       "      <th>2</th>\n",
       "      <td>%pfile</td>\n",
       "      <td>%pfile</td>\n",
       "    </tr>\n",
       "    <tr>\n",
       "      <th>3</th>\n",
       "      <td>%pinfo</td>\n",
       "      <td>%pinfo</td>\n",
       "    </tr>\n",
       "    <tr>\n",
       "      <th>4</th>\n",
       "      <td>%pinfo2</td>\n",
       "      <td>%pinfo2</td>\n",
       "    </tr>\n",
       "    <tr>\n",
       "      <th>5</th>\n",
       "      <td>%pip</td>\n",
       "      <td>运行pip命令</td>\n",
       "    </tr>\n",
       "    <tr>\n",
       "      <th>6</th>\n",
       "      <td>%popd</td>\n",
       "      <td>%popd</td>\n",
       "    </tr>\n",
       "    <tr>\n",
       "      <th>7</th>\n",
       "      <td>%pprint</td>\n",
       "      <td>美化打印</td>\n",
       "    </tr>\n",
       "    <tr>\n",
       "      <th>8</th>\n",
       "      <td>%precision</td>\n",
       "      <td>设置美化打印时的浮点数精度</td>\n",
       "    </tr>\n",
       "    <tr>\n",
       "      <th>9</th>\n",
       "      <td>%profile</td>\n",
       "      <td>打印您当前活动的IPython配置文件</td>\n",
       "    </tr>\n",
       "    <tr>\n",
       "      <th>10</th>\n",
       "      <td>%prun</td>\n",
       "      <td>告诉你程序中每个函数消耗的时间</td>\n",
       "    </tr>\n",
       "    <tr>\n",
       "      <th>11</th>\n",
       "      <td>%psearch</td>\n",
       "      <td>%psearch</td>\n",
       "    </tr>\n",
       "    <tr>\n",
       "      <th>12</th>\n",
       "      <td>%psource</td>\n",
       "      <td>打印对象源代码</td>\n",
       "    </tr>\n",
       "    <tr>\n",
       "      <th>13</th>\n",
       "      <td>%pushd</td>\n",
       "      <td>%pushd</td>\n",
       "    </tr>\n",
       "    <tr>\n",
       "      <th>14</th>\n",
       "      <td>%pwd</td>\n",
       "      <td>返回当前工作路径</td>\n",
       "    </tr>\n",
       "    <tr>\n",
       "      <th>15</th>\n",
       "      <td>%pycat</td>\n",
       "      <td>%pycat</td>\n",
       "    </tr>\n",
       "    <tr>\n",
       "      <th>16</th>\n",
       "      <td>%pylab</td>\n",
       "      <td>加载numpy、matplotlib</td>\n",
       "    </tr>\n",
       "    <tr>\n",
       "      <th>17</th>\n",
       "      <td>%quickref</td>\n",
       "      <td>%quickref</td>\n",
       "    </tr>\n",
       "    <tr>\n",
       "      <th>18</th>\n",
       "      <td>%recall</td>\n",
       "      <td>%recall</td>\n",
       "    </tr>\n",
       "    <tr>\n",
       "      <th>19</th>\n",
       "      <td>%rehashx</td>\n",
       "      <td>%rehashx</td>\n",
       "    </tr>\n",
       "  </tbody>\n",
       "</table>\n",
       "</div>"
      ],
      "text/plain": [
       "            命令                   详情\n",
       "0        %pdef          打印任何可调用对象信息\n",
       "1        %pdoc       打印对象的docstring\n",
       "2       %pfile               %pfile\n",
       "3       %pinfo               %pinfo\n",
       "4      %pinfo2              %pinfo2\n",
       "5         %pip              运行pip命令\n",
       "6        %popd                %popd\n",
       "7      %pprint                 美化打印\n",
       "8   %precision        设置美化打印时的浮点数精度\n",
       "9     %profile  打印您当前活动的IPython配置文件\n",
       "10       %prun      告诉你程序中每个函数消耗的时间\n",
       "11    %psearch             %psearch\n",
       "12    %psource              打印对象源代码\n",
       "13      %pushd               %pushd\n",
       "14        %pwd             返回当前工作路径\n",
       "15      %pycat               %pycat\n",
       "16      %pylab   加载numpy、matplotlib\n",
       "17   %quickref            %quickref\n",
       "18     %recall              %recall\n",
       "19    %rehashx             %rehashx"
      ]
     },
     "execution_count": 19,
     "metadata": {},
     "output_type": "execute_result"
    }
   ],
   "source": [
    "table_magic_2 = response_elements.xpath(\"//*[@id=\\\"cnblogs_post_body\\\"]/table[2]\")\n",
    "table_2 = etree.tostring(table_magic_2[0],encoding='utf-8').decode()\n",
    "\n",
    "# pd表格输出csv\n",
    "df_2 = pd.read_html(table_2,encoding='utf-8',header=0)[0]\n",
    "results = list(df_2.T.to_dict().values())\n",
    "df_2.to_csv(\"magic_table_2.csv\",index=False)\n",
    "\n",
    "# pd读取csv\n",
    "magic_data_2 = pd.read_csv(\"magic_table_2.csv\")\n",
    "\n",
    "print(\"\\033[1;32m魔术命令-打印相关\\033[0m\")\n",
    "magic_data_2"
   ]
  },
  {
   "cell_type": "code",
   "execution_count": 20,
   "metadata": {},
   "outputs": [
    {
     "name": "stdout",
     "output_type": "stream",
     "text": [
      "\u001b[1;34m魔术命令-运行相关\u001b[0m\n"
     ]
    },
    {
     "data": {
      "text/html": [
       "<div>\n",
       "<style scoped>\n",
       "    .dataframe tbody tr th:only-of-type {\n",
       "        vertical-align: middle;\n",
       "    }\n",
       "\n",
       "    .dataframe tbody tr th {\n",
       "        vertical-align: top;\n",
       "    }\n",
       "\n",
       "    .dataframe thead th {\n",
       "        text-align: right;\n",
       "    }\n",
       "</style>\n",
       "<table border=\"1\" class=\"dataframe\">\n",
       "  <thead>\n",
       "    <tr style=\"text-align: right;\">\n",
       "      <th></th>\n",
       "      <th>命令</th>\n",
       "      <th>详情</th>\n",
       "    </tr>\n",
       "  </thead>\n",
       "  <tbody>\n",
       "    <tr>\n",
       "      <th>0</th>\n",
       "      <td>%reload_ext</td>\n",
       "      <td>通过其模块名称重新加载IPython扩展</td>\n",
       "    </tr>\n",
       "    <tr>\n",
       "      <th>1</th>\n",
       "      <td>%rerun</td>\n",
       "      <td>%rerun</td>\n",
       "    </tr>\n",
       "    <tr>\n",
       "      <th>2</th>\n",
       "      <td>%reset</td>\n",
       "      <td>%reset</td>\n",
       "    </tr>\n",
       "    <tr>\n",
       "      <th>3</th>\n",
       "      <td>%reset_selective</td>\n",
       "      <td>%reset_selective</td>\n",
       "    </tr>\n",
       "    <tr>\n",
       "      <th>4</th>\n",
       "      <td>%run</td>\n",
       "      <td>%run</td>\n",
       "    </tr>\n",
       "    <tr>\n",
       "      <th>5</th>\n",
       "      <td>%save</td>\n",
       "      <td>%save</td>\n",
       "    </tr>\n",
       "    <tr>\n",
       "      <th>6</th>\n",
       "      <td>%sc</td>\n",
       "      <td>%sc</td>\n",
       "    </tr>\n",
       "    <tr>\n",
       "      <th>7</th>\n",
       "      <td>%set_env</td>\n",
       "      <td>设置环境变量</td>\n",
       "    </tr>\n",
       "    <tr>\n",
       "      <th>8</th>\n",
       "      <td>%sx</td>\n",
       "      <td>%sx</td>\n",
       "    </tr>\n",
       "    <tr>\n",
       "      <th>9</th>\n",
       "      <td>%system</td>\n",
       "      <td>%system</td>\n",
       "    </tr>\n",
       "    <tr>\n",
       "      <th>10</th>\n",
       "      <td>%tb</td>\n",
       "      <td>%tb</td>\n",
       "    </tr>\n",
       "    <tr>\n",
       "      <th>11</th>\n",
       "      <td>%time</td>\n",
       "      <td>执行Python语句或表达式的时间</td>\n",
       "    </tr>\n",
       "    <tr>\n",
       "      <th>12</th>\n",
       "      <td>%timeit</td>\n",
       "      <td>%timeit</td>\n",
       "    </tr>\n",
       "    <tr>\n",
       "      <th>13</th>\n",
       "      <td>%unalias</td>\n",
       "      <td>移别名</td>\n",
       "    </tr>\n",
       "    <tr>\n",
       "      <th>14</th>\n",
       "      <td>%unload_ext</td>\n",
       "      <td>通过其模块名称卸载IPython扩展</td>\n",
       "    </tr>\n",
       "    <tr>\n",
       "      <th>15</th>\n",
       "      <td>%who</td>\n",
       "      <td>列出全局变量</td>\n",
       "    </tr>\n",
       "    <tr>\n",
       "      <th>16</th>\n",
       "      <td>%who_ls</td>\n",
       "      <td>以排序列表的方式列出变量</td>\n",
       "    </tr>\n",
       "    <tr>\n",
       "      <th>17</th>\n",
       "      <td>%whos</td>\n",
       "      <td>类似who，但给出的信息更详细</td>\n",
       "    </tr>\n",
       "    <tr>\n",
       "      <th>18</th>\n",
       "      <td>%xdel</td>\n",
       "      <td>%xdel</td>\n",
       "    </tr>\n",
       "    <tr>\n",
       "      <th>19</th>\n",
       "      <td>%xmode</td>\n",
       "      <td>%xmode</td>\n",
       "    </tr>\n",
       "  </tbody>\n",
       "</table>\n",
       "</div>"
      ],
      "text/plain": [
       "                  命令                    详情\n",
       "0        %reload_ext  通过其模块名称重新加载IPython扩展\n",
       "1             %rerun                %rerun\n",
       "2             %reset                %reset\n",
       "3   %reset_selective      %reset_selective\n",
       "4               %run                  %run\n",
       "5              %save                 %save\n",
       "6                %sc                   %sc\n",
       "7           %set_env                设置环境变量\n",
       "8                %sx                   %sx\n",
       "9            %system               %system\n",
       "10               %tb                   %tb\n",
       "11             %time     执行Python语句或表达式的时间\n",
       "12           %timeit               %timeit\n",
       "13          %unalias                   移别名\n",
       "14       %unload_ext    通过其模块名称卸载IPython扩展\n",
       "15              %who                列出全局变量\n",
       "16           %who_ls          以排序列表的方式列出变量\n",
       "17             %whos       类似who，但给出的信息更详细\n",
       "18             %xdel                 %xdel\n",
       "19            %xmode                %xmode"
      ]
     },
     "execution_count": 20,
     "metadata": {},
     "output_type": "execute_result"
    }
   ],
   "source": [
    "table_magic_3 = response_elements.xpath(\"//*[@id=\\\"cnblogs_post_body\\\"]/table[3]\")\n",
    "table_3 = etree.tostring(table_magic_3[0],encoding='utf-8').decode()\n",
    "\n",
    "# pd表格输出csv\n",
    "df_3 = pd.read_html(table_3,encoding='utf-8',header=0)[0]\n",
    "results = list(df_3.T.to_dict().values())\n",
    "df_3.to_csv(\"magic_table_3.csv\",index=False)\n",
    "\n",
    "# pd读取csv\n",
    "magic_data_3 = pd.read_csv(\"magic_table_3.csv\")\n",
    "print(\"\\033[1;34m魔术命令-运行相关\\033[0m\")\n",
    "magic_data_3"
   ]
  },
  {
   "cell_type": "markdown",
   "metadata": {},
   "source": [
    "###  7. matplotlib"
   ]
  },
  {
   "cell_type": "markdown",
   "metadata": {},
   "source": [
    "* matplotlib是python的2D绘图库。\n",
    "* 在绘图结构中，figure创建窗口，subplot创建子图，所有绘画只能在子图上进行\n",
    "* plt表示当前子图，若没有就创建一个子图\n",
    "* Figure：面板(图)，matplotlib中的所有图像都是位于figure对象中，一个图像只能有一个figure对象\n",
    "* Subplot：子图，figure对象下创建一个或多个subplot对象(即axes)用于绘制图像"
   ]
  },
  {
   "cell_type": "markdown",
   "metadata": {},
   "source": [
    "#### 配置参数\n",
    "* axex: 设置坐标轴边界和表面的颜色、坐标刻度值大小和网格的显示\n",
    "* figure: 控制dpi、边界颜色、图形大小、和子区( subplot)设置\n",
    "* font: 字体集（font family）、字体大小和样式设置\n",
    "* grid: 设置网格颜色和线性\n",
    "* legend: 设置图例和其中的文本的显示\n",
    "* line: 设置线条（颜色、线型、宽度等）和标记\n",
    "* patch: 是填充2D空间的图形对象，如多边形和圆。控制线宽、颜色和抗锯齿设置等。\n",
    "* savefig: 可以对保存的图形进行单独设置。例如，设置渲染的文件的背景为白色。\n",
    "* verbose: 设置matplotlib在执行期间信息输出，如silent、helpful、debug和debug-annoying。\n",
    "* xticks和yticks: 为x,y轴的主刻度和次刻度设置颜色、大小、方向，以及标签大小。"
   ]
  },
  {
   "cell_type": "markdown",
   "metadata": {},
   "source": [
    "#### 线条风格linestyle或ls\n",
    "* ‘-‘:实线\n",
    "* ‘:’:虚线\n",
    "* ‘–’:破折线\n",
    "* ‘None’/’‘,’’:什么都不画\n",
    "* ‘-.’\t点划线"
   ]
  },
  {
   "cell_type": "code",
   "execution_count": 22,
   "metadata": {},
   "outputs": [
    {
     "data": {
      "text/plain": [
       "[<matplotlib.lines.Line2D at 0x17ae97c6940>]"
      ]
     },
     "execution_count": 22,
     "metadata": {},
     "output_type": "execute_result"
    },
    {
     "data": {
      "image/png": "[encoded data removed]",
      "text/plain": [
       "<Figure size 432x288 with 1 Axes>"
      ]
     },
     "metadata": {
      "needs_background": "light"
     },
     "output_type": "display_data"
    }
   ],
   "source": [
    "import numpy as np  # 必须引入此模块，否则程序会报错，个人的jupyter notebook问题\n",
    "import matplotlib.pyplot as plt\n",
    "from matplotlib import pyplot as plt\n",
    "plt.plot(np.random.randn(50).cumsum())   # 绘制子坐标系"
   ]
  },
  {
   "cell_type": "code",
   "execution_count": 23,
   "metadata": {},
   "outputs": [
    {
     "data": {
      "text/plain": [
       "Text(0.5, 0, 'Stages')"
      ]
     },
     "execution_count": 23,
     "metadata": {},
     "output_type": "execute_result"
    },
    {
     "data": {
      "image/png": "[encoded data removed]",
      "text/plain": [
       "<Figure size 432x288 with 1 Axes>"
      ]
     },
     "metadata": {
      "needs_background": "light"
     },
     "output_type": "display_data"
    }
   ],
   "source": [
    "fig = plt.figure()   # 开启一个窗口\n",
    "ax = fig.add_subplot(1,1,1)  # 创建子图，参数：行数、列数、第几个\n",
    "ax.plot(np.random.randn(1000).cumsum())  # 画图\n",
    " \n",
    "#修改X轴的刻度\n",
    "#刻度放在哪些位置\n",
    "ticks = ax.set_xticks([0,250,500,750,1000])   # 设置坐标轴刻度\n",
    "#也可以将其他值用作标签\n",
    "# 设置刻度的显示文本，ratation旋转角度，fontsize字体大小\n",
    "labels = ax.set_xticklabels(['one','two','three','four','five'], rotation=30, fontsize='small')\n",
    " \n",
    "#设置标题\n",
    "ax.set_title('My first matplotlib plot')\n",
    "#设置X轴名称\n",
    "ax.set_xlabel('Stages')"
   ]
  },
  {
   "cell_type": "code",
   "execution_count": 24,
   "metadata": {},
   "outputs": [
    {
     "data": {
      "image/png": "[encoded data removed]",
      "text/plain": [
       "<Figure size 432x288 with 1 Axes>"
      ]
     },
     "metadata": {
      "needs_background": "light"
     },
     "output_type": "display_data"
    }
   ],
   "source": [
    "'''\n",
    "    颜色  color:修改颜色，可以简写成c\n",
    "    样式  linestyle='--' 修改线条的样式 可以简写成 ls\n",
    "    标注  marker : 标注\n",
    "    线宽  linewidth: 设置线宽 可以简写成 lw   （lw=2）\n",
    "    \n",
    "'''\n",
    "x1 = np.random.randn(50)   # cumsum()作用是累加和\n",
    "x2 = np.random.randn(50)\n",
    "x3 = np.random.randn(50)\n",
    "plt.plot(x1.cumsum(),c='r',linestyle='--',marker='o')\n",
    "plt.plot(x2.cumsum(),c='y',linestyle='-.',marker='>')\n",
    "plt.plot(x3.cumsum(),c='b',linestyle=':',marker='*')\n",
    "plt.legend(['x1','x2','x3'])   # 显示图例\n",
    "plt.show()\n"
   ]
  },
  {
   "cell_type": "code",
   "execution_count": null,
   "metadata": {},
   "outputs": [],
   "source": []
  }
 ],
 "metadata": {
  "kernelspec": {
   "display_name": "Python 3",
   "language": "python",
   "name": "python3"
  },
  "language_info": {
   "codemirror_mode": {
    "name": "ipython",
    "version": 3
   },
   "file_extension": ".py",
   "mimetype": "text/x-python",
   "name": "python",
   "nbconvert_exporter": "python",
   "pygments_lexer": "ipython3",
   "version": "3.7.3"
  }
 },
 "nbformat": 4,
 "nbformat_minor": 2
}
